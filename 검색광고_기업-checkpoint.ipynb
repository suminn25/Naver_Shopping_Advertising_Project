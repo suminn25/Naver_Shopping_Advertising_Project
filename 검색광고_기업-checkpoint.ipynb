{
 "cells": [
  {
   "cell_type": "code",
   "execution_count": null,
   "id": "cf520586",
   "metadata": {
    "ExecuteTime": {
     "start_time": "2023-02-16T04:13:34.404Z"
    }
   },
   "outputs": [],
   "source": [
    "import time"
   ]
  },
  {
   "cell_type": "code",
   "execution_count": 3,
   "id": "fdd10fda",
   "metadata": {
    "ExecuteTime": {
     "end_time": "2023-02-16T04:13:29.445174Z",
     "start_time": "2023-02-16T04:13:29.283994Z"
    }
   },
   "outputs": [],
   "source": [
    "from tqdm import tqdm"
   ]
  },
  {
   "cell_type": "code",
   "execution_count": 4,
   "id": "0948ccf1",
   "metadata": {
    "ExecuteTime": {
     "end_time": "2023-02-16T04:13:36.012157Z",
     "start_time": "2023-02-16T04:13:29.461887Z"
    }
   },
   "outputs": [],
   "source": [
    "import os\n",
    "import sys\n",
    "import urllib.request\n",
    "import json\n",
    "import pandas as pd\n",
    "import matplotlib.pyplot as plt\n",
    "import time\n",
    "import random\n",
    "import requests\n",
    "\n",
    "\n",
    "import hashlib\n",
    "import hmac\n",
    "import base64\n",
    "\n",
    "\n",
    "class Signature:\n",
    "\n",
    "    @staticmethod\n",
    "    def generate(timestamp, method, uri, secret_key):\n",
    "        message = \"{}.{}.{}\".format(timestamp, method, uri)\n",
    "        hash = hmac.new(bytes(secret_key, \"utf-8\"), bytes(message, \"utf-8\"), hashlib.sha256)\n",
    "        \n",
    "        hash.hexdigest()\n",
    "        return base64.b64encode(hash.digest())\n",
    "    \n",
    "\n",
    "def get_header(method, uri, api_key, secret_key, customer_id):\n",
    "    timestamp = str(round(time.time() * 1000))\n",
    "    signature = Signature.generate(timestamp, method, uri, secret_key)\n",
    "    \n",
    "    return {'Content-Type': 'application/json; charset=UTF-8', 'X-Timestamp': timestamp, \n",
    "            'X-API-KEY': api_key, 'X-Customer': str(customer_id), 'X-Signature': signature}\n",
    "\n",
    "\n",
    "def getresults(hintKeywords):\n",
    "\n",
    "    BASE_URL = 'https://api.naver.com'\n",
    "    CUSTOMER_ID = '2792532'\n",
    "    API_KEY = '0100000000e2267f62960ac63362aeb0950952542b1280d2480f8ba80ffa0e2abb9442c664'\n",
    "    SECRET_KEY = 'AQAAAADiJn9ilgrGM2KusJUJUlQrYhkrtB6iq3bycW8Hdk5FjQ=='\n",
    "\n",
    "    uri = '/keywordstool'\n",
    "    method = 'GET'\n",
    "\n",
    "    params={}\n",
    "\n",
    "    params['hintKeywords']=hintKeywords\n",
    "    params['showDetail']='1'\n",
    "\n",
    "    r=requests.get(BASE_URL + uri, params=params, \n",
    "                 headers=get_header(method, uri, API_KEY, SECRET_KEY, CUSTOMER_ID))\n",
    "    time.sleep(0.1)\n",
    "    return pd.DataFrame(r.json()['keywordList'])"
   ]
  },
  {
   "cell_type": "code",
   "execution_count": 5,
   "id": "fa696035",
   "metadata": {
    "ExecuteTime": {
     "end_time": "2023-02-16T04:13:36.089670Z",
     "start_time": "2023-02-16T04:13:36.020063Z"
    }
   },
   "outputs": [],
   "source": [
    "keyword_df = pd.read_csv('./lucky.csv')"
   ]
  },
  {
   "cell_type": "code",
   "execution_count": 6,
   "id": "3596f7f4",
   "metadata": {
    "ExecuteTime": {
     "end_time": "2023-02-16T04:13:36.136475Z",
     "start_time": "2023-02-16T04:13:36.092664Z"
    }
   },
   "outputs": [],
   "source": [
    "keyword_df['키워드'] = keyword_df['키워드'].str.replace(' ', '')"
   ]
  },
  {
   "cell_type": "code",
   "execution_count": 7,
   "id": "a395246a",
   "metadata": {
    "ExecuteTime": {
     "end_time": "2023-02-16T04:13:36.167376Z",
     "start_time": "2023-02-16T04:13:36.140821Z"
    }
   },
   "outputs": [],
   "source": [
    "# 연관 키워드 검색시 스페이스바가 있으면 400 error 나옵니다.\n",
    "\"\"\"\n",
    "{'title': 'Invalid Parameter',\n",
    " 'detail': 'There are invalid parameters',\n",
    " 'status': 'BAD_REQUEST',\n",
    " 'type': 'about:blank',\n",
    " 'parameters': {},\n",
    " 'instance': None}\n",
    "\"\"\"\n",
    "# 띄어쓰기 제거 로직 추가 \n",
    "keyword_df['키워드'] = keyword_df['키워드'].str.replace(' ', '')"
   ]
  },
  {
   "cell_type": "code",
   "execution_count": 8,
   "id": "1c1c61ac",
   "metadata": {
    "ExecuteTime": {
     "end_time": "2023-02-16T04:13:36.198421Z",
     "start_time": "2023-02-16T04:13:36.173357Z"
    }
   },
   "outputs": [],
   "source": [
    "keyword_list=keyword_df['키워드'].values.tolist()"
   ]
  },
  {
   "cell_type": "code",
   "execution_count": null,
   "id": "369c32ae",
   "metadata": {
    "ExecuteTime": {
     "start_time": "2023-02-16T04:13:29.213Z"
    },
    "scrolled": true
   },
   "outputs": [
    {
     "name": "stderr",
     "output_type": "stream",
     "text": [
      "  0%|▏                                                                                | 9/5783 [00:04<47:58,  2.01it/s]"
     ]
    },
    {
     "name": "stdout",
     "output_type": "stream",
     "text": [
      "빅백배낭 검색 결과 없음\n"
     ]
    },
    {
     "name": "stderr",
     "output_type": "stream",
     "text": [
      "  3%|██▋                                                                            | 193/5783 [01:40<43:44,  2.13it/s]"
     ]
    },
    {
     "name": "stdout",
     "output_type": "stream",
     "text": [
      "살바토레페라가모백 검색 결과 없음\n"
     ]
    },
    {
     "name": "stderr",
     "output_type": "stream",
     "text": [
      "  4%|███▎                                                                           | 243/5783 [02:06<47:55,  1.93it/s]"
     ]
    }
   ],
   "source": [
    "# 네이버 api 1초에 최대 호출량이 있어서 time sleep으로 어쩔수 없이 스펙을 조금 다운 시켰습니다.\n",
    "\n",
    "# initialized\n",
    "fail_list = []\n",
    "final_df = pd.DataFrame()\n",
    "\n",
    "# keyword search part\n",
    "for keyword in tqdm(keyword_list):\n",
    "    try:\n",
    "        tmp = getresults(keyword)\n",
    "        final_df = pd.concat([final_df, tmp])\n",
    "        time.sleep(0.3)\n",
    "    except:\n",
    "        print(f'{keyword} 검색 결과 없음')\n",
    "        fail_list.append(keyword)\n"
   ]
  },
  {
   "cell_type": "code",
   "execution_count": null,
   "id": "5df17e1b",
   "metadata": {
    "ExecuteTime": {
     "start_time": "2023-02-16T04:13:29.225Z"
    }
   },
   "outputs": [],
   "source": [
    "# final_dataFrame retouch"
   ]
  },
  {
   "cell_type": "code",
   "execution_count": null,
   "id": "d67309fe",
   "metadata": {
    "ExecuteTime": {
     "start_time": "2023-02-16T04:13:29.247Z"
    }
   },
   "outputs": [],
   "source": [
    "final_df.rename({\n",
    "    'compIdx':'경쟁정도',\n",
    "    'monthlyAveMobileClkCnt':'월평균클릭수_모바일',\n",
    "    'monthlyAveMobileCtr':'월평균클릭률_모바일',\n",
    "    'monthlyAvePcClkCnt':'월평균클릭수_PC',\n",
    "    'monthlyAvePcCtr':'월평균클릭률_PC',\n",
    "    'monthlyMobileQcCnt':'월간검색수_모바일',\n",
    "    'monthlyPcQcCnt':'월간검색수_PC',\n",
    "    'plAvgDepth':'월평균노출광고수',\n",
    "    'relKeyword':'연관키워드'\n",
    "    },\n",
    "    axis=1, inplace=True)"
   ]
  },
  {
   "cell_type": "code",
   "execution_count": null,
   "id": "b452142a",
   "metadata": {
    "ExecuteTime": {
     "start_time": "2023-02-16T04:13:29.296Z"
    }
   },
   "outputs": [],
   "source": [
    "final_df = final_df.replace('< 10', '10')"
   ]
  },
  {
   "cell_type": "code",
   "execution_count": null,
   "id": "13d15a5f",
   "metadata": {
    "ExecuteTime": {
     "start_time": "2023-02-16T04:13:29.305Z"
    }
   },
   "outputs": [],
   "source": [
    "final_df[['월간검색수_PC', '월간검색수_모바일']] = final_df[['월간검색수_PC', '월간검색수_모바일']].apply(pd.to_numeric)\n",
    "final_df"
   ]
  },
  {
   "cell_type": "code",
   "execution_count": null,
   "id": "f357314e",
   "metadata": {},
   "outputs": [],
   "source": []
  }
 ],
 "metadata": {
  "kernelspec": {
   "display_name": "Python 3 (ipykernel)",
   "language": "python",
   "name": "python3"
  },
  "language_info": {
   "codemirror_mode": {
    "name": "ipython",
    "version": 3
   },
   "file_extension": ".py",
   "mimetype": "text/x-python",
   "name": "python",
   "nbconvert_exporter": "python",
   "pygments_lexer": "ipython3",
   "version": "3.9.13"
  },
  "toc": {
   "base_numbering": 1,
   "nav_menu": {},
   "number_sections": true,
   "sideBar": true,
   "skip_h1_title": false,
   "title_cell": "Table of Contents",
   "title_sidebar": "Contents",
   "toc_cell": false,
   "toc_position": {},
   "toc_section_display": true,
   "toc_window_display": false
  },
  "varInspector": {
   "cols": {
    "lenName": 16,
    "lenType": 16,
    "lenVar": 40
   },
   "kernels_config": {
    "python": {
     "delete_cmd_postfix": "",
     "delete_cmd_prefix": "del ",
     "library": "var_list.py",
     "varRefreshCmd": "print(var_dic_list())"
    },
    "r": {
     "delete_cmd_postfix": ") ",
     "delete_cmd_prefix": "rm(",
     "library": "var_list.r",
     "varRefreshCmd": "cat(var_dic_list()) "
    }
   },
   "types_to_exclude": [
    "module",
    "function",
    "builtin_function_or_method",
    "instance",
    "_Feature"
   ],
   "window_display": false
  }
 },
 "nbformat": 4,
 "nbformat_minor": 5
}
