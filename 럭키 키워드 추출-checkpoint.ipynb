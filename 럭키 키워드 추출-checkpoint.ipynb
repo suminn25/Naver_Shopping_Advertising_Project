{
 "cells": [
  {
   "cell_type": "markdown",
   "metadata": {
    "id": "UsZSmAj47LXm",
    "slideshow": {
     "slide_type": "slide"
    }
   },
   "source": [
    "# **Real 럭키 키워드 추출**"
   ]
  },
  {
   "cell_type": "markdown",
   "metadata": {},
   "source": [
    "13-18일 간 수집한 쇼핑몰 상품형 광고가 된 키워드가 제외된 키워드 리스트에서 17-18일 간 수집한 제품 카탈로그형 광고가 된 키워드를 제외해주는 작업\n",
    "\n",
    "중복"
   ]
  },
  {
   "cell_type": "code",
   "execution_count": 130,
   "metadata": {
    "ExecuteTime": {
     "end_time": "2023-02-18T05:01:40.176699Z",
     "start_time": "2023-02-18T05:01:40.042991Z"
    }
   },
   "outputs": [],
   "source": [
    "# 패키지 설치 및 import \n",
    "# pip install BeautifulSoup4\n",
    "from bs4 import BeautifulSoup #bs4 안에 워낙 많아서 그 중에 뷰티풀만 가져와서 쓰겠다 \n"
   ]
  },
  {
   "cell_type": "code",
   "execution_count": 2,
   "metadata": {
    "ExecuteTime": {
     "end_time": "2023-02-22T00:52:29.772261Z",
     "start_time": "2023-02-22T00:52:12.754128Z"
    }
   },
   "outputs": [],
   "source": [
    "# 필요패키지 import\n",
    "import time\n",
    "import json\n",
    "import urllib\n",
    "import requests\n",
    "import numpy as np\n",
    "import pandas as pd\n",
    "import matplotlib.pyplot as plt\n",
    "import seaborn as sns"
   ]
  },
  {
   "cell_type": "code",
   "execution_count": 3,
   "metadata": {
    "ExecuteTime": {
     "end_time": "2023-02-22T00:52:34.666754Z",
     "start_time": "2023-02-22T00:52:33.738253Z"
    }
   },
   "outputs": [],
   "source": [
    "total = pd.read_csv('./total_18.csv')"
   ]
  },
  {
   "cell_type": "code",
   "execution_count": 9,
   "metadata": {
    "ExecuteTime": {
     "end_time": "2023-02-22T00:59:28.037342Z",
     "start_time": "2023-02-22T00:59:27.766226Z"
    },
    "scrolled": true
   },
   "outputs": [],
   "source": [
    "total = total.drop_duplicates(['keyword'])"
   ]
  },
  {
   "cell_type": "code",
   "execution_count": 15,
   "metadata": {
    "ExecuteTime": {
     "end_time": "2023-02-22T01:24:22.800181Z",
     "start_time": "2023-02-22T01:24:22.736901Z"
    }
   },
   "outputs": [],
   "source": [
    "all = pd.merge(total, key_first, left_on = 'keyword',right_on = '키워드', how = 'right')"
   ]
  },
  {
   "cell_type": "code",
   "execution_count": 8,
   "metadata": {
    "ExecuteTime": {
     "end_time": "2023-02-22T00:59:05.389220Z",
     "start_time": "2023-02-22T00:59:05.299189Z"
    }
   },
   "outputs": [],
   "source": [
    "key_first = pd.read_csv('C:/Users/sum/Downloads/key_first.csv')"
   ]
  },
  {
   "cell_type": "code",
   "execution_count": 19,
   "metadata": {
    "ExecuteTime": {
     "end_time": "2023-02-22T01:26:02.120308Z",
     "start_time": "2023-02-22T01:26:01.980891Z"
    }
   },
   "outputs": [
    {
     "data": {
      "text/html": [
       "<div>\n",
       "<style scoped>\n",
       "    .dataframe tbody tr th:only-of-type {\n",
       "        vertical-align: middle;\n",
       "    }\n",
       "\n",
       "    .dataframe tbody tr th {\n",
       "        vertical-align: top;\n",
       "    }\n",
       "\n",
       "    .dataframe thead th {\n",
       "        text-align: right;\n",
       "    }\n",
       "</style>\n",
       "<table border=\"1\" class=\"dataframe\">\n",
       "  <thead>\n",
       "    <tr style=\"text-align: right;\">\n",
       "      <th></th>\n",
       "      <th>productTitle</th>\n",
       "      <th>mallName</th>\n",
       "      <th>price</th>\n",
       "      <th>category1Name</th>\n",
       "      <th>keyword</th>\n",
       "      <th>rank1</th>\n",
       "      <th>키워드</th>\n",
       "    </tr>\n",
       "  </thead>\n",
       "  <tbody>\n",
       "    <tr>\n",
       "      <th>0</th>\n",
       "      <td>유기농 100% 비트 액기스 NFC 저온착즙</td>\n",
       "      <td>탐라원몰</td>\n",
       "      <td>38700.0</td>\n",
       "      <td>식품</td>\n",
       "      <td>비트즙</td>\n",
       "      <td>1.0</td>\n",
       "      <td>비트즙</td>\n",
       "    </tr>\n",
       "    <tr>\n",
       "      <th>1</th>\n",
       "      <td>몰딩 베어링 비트 (클래식 로만) 6.35R</td>\n",
       "      <td>위시스</td>\n",
       "      <td>30910.0</td>\n",
       "      <td>생활/건강</td>\n",
       "      <td>비트클래식</td>\n",
       "      <td>1.0</td>\n",
       "      <td>비트클래식</td>\n",
       "    </tr>\n",
       "    <tr>\n",
       "      <th>2</th>\n",
       "      <td>브롤스타즈 BT21 옐로우 반팔 티셔츠</td>\n",
       "      <td>라인프렌즈</td>\n",
       "      <td>23200.0</td>\n",
       "      <td>패션의류</td>\n",
       "      <td>비티셔츠</td>\n",
       "      <td>1.0</td>\n",
       "      <td>비티셔츠</td>\n",
       "    </tr>\n",
       "    <tr>\n",
       "      <th>3</th>\n",
       "      <td>비플레인 시카테롤 앰플 30ml (추가구성-앰플10ml)</td>\n",
       "      <td>비플레인 beplain</td>\n",
       "      <td>21500.0</td>\n",
       "      <td>화장품/미용</td>\n",
       "      <td>비플레인</td>\n",
       "      <td>1.0</td>\n",
       "      <td>비플레인</td>\n",
       "    </tr>\n",
       "    <tr>\n",
       "      <th>4</th>\n",
       "      <td>NaN</td>\n",
       "      <td>NaN</td>\n",
       "      <td>NaN</td>\n",
       "      <td>NaN</td>\n",
       "      <td>NaN</td>\n",
       "      <td>NaN</td>\n",
       "      <td>비플립</td>\n",
       "    </tr>\n",
       "    <tr>\n",
       "      <th>...</th>\n",
       "      <td>...</td>\n",
       "      <td>...</td>\n",
       "      <td>...</td>\n",
       "      <td>...</td>\n",
       "      <td>...</td>\n",
       "      <td>...</td>\n",
       "      <td>...</td>\n",
       "    </tr>\n",
       "    <tr>\n",
       "      <th>19995</th>\n",
       "      <td>NaN</td>\n",
       "      <td>NaN</td>\n",
       "      <td>NaN</td>\n",
       "      <td>NaN</td>\n",
       "      <td>NaN</td>\n",
       "      <td>NaN</td>\n",
       "      <td>통돌이</td>\n",
       "    </tr>\n",
       "    <tr>\n",
       "      <th>19996</th>\n",
       "      <td>NaN</td>\n",
       "      <td>NaN</td>\n",
       "      <td>NaN</td>\n",
       "      <td>NaN</td>\n",
       "      <td>NaN</td>\n",
       "      <td>NaN</td>\n",
       "      <td>통돌이세탁기</td>\n",
       "    </tr>\n",
       "    <tr>\n",
       "      <th>19997</th>\n",
       "      <td>NaN</td>\n",
       "      <td>NaN</td>\n",
       "      <td>NaN</td>\n",
       "      <td>NaN</td>\n",
       "      <td>NaN</td>\n",
       "      <td>NaN</td>\n",
       "      <td>통돌이오븐</td>\n",
       "    </tr>\n",
       "    <tr>\n",
       "      <th>19998</th>\n",
       "      <td>[고급형] 프리미엄 올스틸 통돌이 회전걸레 스텐레스 회전청소기</td>\n",
       "      <td>부자오빠</td>\n",
       "      <td>38900.0</td>\n",
       "      <td>생활/건강</td>\n",
       "      <td>통돌이회전걸레</td>\n",
       "      <td>1.0</td>\n",
       "      <td>통돌이회전걸레</td>\n",
       "    </tr>\n",
       "    <tr>\n",
       "      <th>19999</th>\n",
       "      <td>여성 통바지 봄  중년 편한 할머니 옷 선물</td>\n",
       "      <td>믹스밍글</td>\n",
       "      <td>39900.0</td>\n",
       "      <td>패션의류</td>\n",
       "      <td>통바지</td>\n",
       "      <td>1.0</td>\n",
       "      <td>통바지</td>\n",
       "    </tr>\n",
       "  </tbody>\n",
       "</table>\n",
       "<p>20000 rows × 7 columns</p>\n",
       "</div>"
      ],
      "text/plain": [
       "                             productTitle      mallName    price  \\\n",
       "0                유기농 100% 비트 액기스 NFC 저온착즙          탐라원몰  38700.0   \n",
       "1                몰딩 베어링 비트 (클래식 로만) 6.35R           위시스  30910.0   \n",
       "2                   브롤스타즈 BT21 옐로우 반팔 티셔츠         라인프렌즈  23200.0   \n",
       "3         비플레인 시카테롤 앰플 30ml (추가구성-앰플10ml)  비플레인 beplain  21500.0   \n",
       "4                                     NaN           NaN      NaN   \n",
       "...                                   ...           ...      ...   \n",
       "19995                                 NaN           NaN      NaN   \n",
       "19996                                 NaN           NaN      NaN   \n",
       "19997                                 NaN           NaN      NaN   \n",
       "19998  [고급형] 프리미엄 올스틸 통돌이 회전걸레 스텐레스 회전청소기          부자오빠  38900.0   \n",
       "19999            여성 통바지 봄  중년 편한 할머니 옷 선물          믹스밍글  39900.0   \n",
       "\n",
       "      category1Name  keyword  rank1      키워드  \n",
       "0                식품      비트즙    1.0      비트즙  \n",
       "1             생활/건강    비트클래식    1.0    비트클래식  \n",
       "2              패션의류     비티셔츠    1.0     비티셔츠  \n",
       "3            화장품/미용     비플레인    1.0     비플레인  \n",
       "4               NaN      NaN    NaN      비플립  \n",
       "...             ...      ...    ...      ...  \n",
       "19995           NaN      NaN    NaN      통돌이  \n",
       "19996           NaN      NaN    NaN   통돌이세탁기  \n",
       "19997           NaN      NaN    NaN    통돌이오븐  \n",
       "19998         생활/건강  통돌이회전걸레    1.0  통돌이회전걸레  \n",
       "19999          패션의류      통바지    1.0      통바지  \n",
       "\n",
       "[20000 rows x 7 columns]"
      ]
     },
     "execution_count": 19,
     "metadata": {},
     "output_type": "execute_result"
    }
   ],
   "source": [
    "all"
   ]
  },
  {
   "cell_type": "code",
   "execution_count": 24,
   "metadata": {
    "ExecuteTime": {
     "end_time": "2023-02-22T01:27:19.960604Z",
     "start_time": "2023-02-22T01:27:19.714836Z"
    }
   },
   "outputs": [
    {
     "data": {
      "text/html": [
       "<div>\n",
       "<style scoped>\n",
       "    .dataframe tbody tr th:only-of-type {\n",
       "        vertical-align: middle;\n",
       "    }\n",
       "\n",
       "    .dataframe tbody tr th {\n",
       "        vertical-align: top;\n",
       "    }\n",
       "\n",
       "    .dataframe thead th {\n",
       "        text-align: right;\n",
       "    }\n",
       "</style>\n",
       "<table border=\"1\" class=\"dataframe\">\n",
       "  <thead>\n",
       "    <tr style=\"text-align: right;\">\n",
       "      <th></th>\n",
       "      <th>productTitle</th>\n",
       "      <th>mallName</th>\n",
       "      <th>price</th>\n",
       "      <th>category1Name</th>\n",
       "      <th>keyword</th>\n",
       "      <th>rank1</th>\n",
       "      <th>키워드</th>\n",
       "    </tr>\n",
       "  </thead>\n",
       "  <tbody>\n",
       "    <tr>\n",
       "      <th>4</th>\n",
       "      <td>NaN</td>\n",
       "      <td>NaN</td>\n",
       "      <td>NaN</td>\n",
       "      <td>NaN</td>\n",
       "      <td>NaN</td>\n",
       "      <td>NaN</td>\n",
       "      <td>비플립</td>\n",
       "    </tr>\n",
       "    <tr>\n",
       "      <th>6</th>\n",
       "      <td>NaN</td>\n",
       "      <td>NaN</td>\n",
       "      <td>NaN</td>\n",
       "      <td>NaN</td>\n",
       "      <td>NaN</td>\n",
       "      <td>NaN</td>\n",
       "      <td>빅가죽쇼퍼백</td>\n",
       "    </tr>\n",
       "    <tr>\n",
       "      <th>7</th>\n",
       "      <td>NaN</td>\n",
       "      <td>NaN</td>\n",
       "      <td>NaN</td>\n",
       "      <td>NaN</td>\n",
       "      <td>NaN</td>\n",
       "      <td>NaN</td>\n",
       "      <td>빅골프</td>\n",
       "    </tr>\n",
       "    <tr>\n",
       "      <th>8</th>\n",
       "      <td>NaN</td>\n",
       "      <td>NaN</td>\n",
       "      <td>NaN</td>\n",
       "      <td>NaN</td>\n",
       "      <td>NaN</td>\n",
       "      <td>NaN</td>\n",
       "      <td>빅군모</td>\n",
       "    </tr>\n",
       "    <tr>\n",
       "      <th>11</th>\n",
       "      <td>NaN</td>\n",
       "      <td>NaN</td>\n",
       "      <td>NaN</td>\n",
       "      <td>NaN</td>\n",
       "      <td>NaN</td>\n",
       "      <td>NaN</td>\n",
       "      <td>빅로고가디건</td>\n",
       "    </tr>\n",
       "    <tr>\n",
       "      <th>...</th>\n",
       "      <td>...</td>\n",
       "      <td>...</td>\n",
       "      <td>...</td>\n",
       "      <td>...</td>\n",
       "      <td>...</td>\n",
       "      <td>...</td>\n",
       "      <td>...</td>\n",
       "    </tr>\n",
       "    <tr>\n",
       "      <th>19973</th>\n",
       "      <td>NaN</td>\n",
       "      <td>NaN</td>\n",
       "      <td>NaN</td>\n",
       "      <td>NaN</td>\n",
       "      <td>NaN</td>\n",
       "      <td>NaN</td>\n",
       "      <td>톰포드 스퀘어 선글라스</td>\n",
       "    </tr>\n",
       "    <tr>\n",
       "      <th>19994</th>\n",
       "      <td>NaN</td>\n",
       "      <td>NaN</td>\n",
       "      <td>NaN</td>\n",
       "      <td>NaN</td>\n",
       "      <td>NaN</td>\n",
       "      <td>NaN</td>\n",
       "      <td>통넓은롱부츠</td>\n",
       "    </tr>\n",
       "    <tr>\n",
       "      <th>19995</th>\n",
       "      <td>NaN</td>\n",
       "      <td>NaN</td>\n",
       "      <td>NaN</td>\n",
       "      <td>NaN</td>\n",
       "      <td>NaN</td>\n",
       "      <td>NaN</td>\n",
       "      <td>통돌이</td>\n",
       "    </tr>\n",
       "    <tr>\n",
       "      <th>19996</th>\n",
       "      <td>NaN</td>\n",
       "      <td>NaN</td>\n",
       "      <td>NaN</td>\n",
       "      <td>NaN</td>\n",
       "      <td>NaN</td>\n",
       "      <td>NaN</td>\n",
       "      <td>통돌이세탁기</td>\n",
       "    </tr>\n",
       "    <tr>\n",
       "      <th>19997</th>\n",
       "      <td>NaN</td>\n",
       "      <td>NaN</td>\n",
       "      <td>NaN</td>\n",
       "      <td>NaN</td>\n",
       "      <td>NaN</td>\n",
       "      <td>NaN</td>\n",
       "      <td>통돌이오븐</td>\n",
       "    </tr>\n",
       "  </tbody>\n",
       "</table>\n",
       "<p>6124 rows × 7 columns</p>\n",
       "</div>"
      ],
      "text/plain": [
       "      productTitle mallName  price category1Name keyword  rank1           키워드\n",
       "4              NaN      NaN    NaN           NaN     NaN    NaN           비플립\n",
       "6              NaN      NaN    NaN           NaN     NaN    NaN        빅가죽쇼퍼백\n",
       "7              NaN      NaN    NaN           NaN     NaN    NaN           빅골프\n",
       "8              NaN      NaN    NaN           NaN     NaN    NaN           빅군모\n",
       "11             NaN      NaN    NaN           NaN     NaN    NaN        빅로고가디건\n",
       "...            ...      ...    ...           ...     ...    ...           ...\n",
       "19973          NaN      NaN    NaN           NaN     NaN    NaN  톰포드 스퀘어 선글라스\n",
       "19994          NaN      NaN    NaN           NaN     NaN    NaN        통넓은롱부츠\n",
       "19995          NaN      NaN    NaN           NaN     NaN    NaN           통돌이\n",
       "19996          NaN      NaN    NaN           NaN     NaN    NaN        통돌이세탁기\n",
       "19997          NaN      NaN    NaN           NaN     NaN    NaN         통돌이오븐\n",
       "\n",
       "[6124 rows x 7 columns]"
      ]
     },
     "execution_count": 24,
     "metadata": {},
     "output_type": "execute_result"
    }
   ],
   "source": [
    "all[all['keyword'].isnull()]"
   ]
  },
  {
   "cell_type": "code",
   "execution_count": 6,
   "metadata": {
    "ExecuteTime": {
     "end_time": "2023-02-22T00:58:42.770013Z",
     "start_time": "2023-02-22T00:58:42.380148Z"
    }
   },
   "outputs": [],
   "source": [
    "keyword_list = pd.read_csv('./dirty_lucky.csv', encoding='utf-8')\n",
    "lucky_before = keyword_list['keyword'].values.tolist()\n",
    "\n",
    "no_lucky = []\n",
    "real_lucky = []"
   ]
  },
  {
   "cell_type": "code",
   "execution_count": null,
   "metadata": {
    "ExecuteTime": {
     "start_time": "2023-02-18T17:48:59.743Z"
    }
   },
   "outputs": [],
   "source": [
    "# 500개에 9분정도 걸림 -- 5000개 다하면 막히고 300개씩 해야할듯\n",
    "\n",
    "for keyword in lucky_before[0:100] :  # 2400:2700  2700:3000\n",
    "    url = f'https://msearch.shopping.naver.com/search/all?query={keyword}&frm=MOSCPRO'\n",
    "    \n",
    "    seed = np.random.randint(100)\n",
    "    np.random.seed(seed)\n",
    "    a = np.random.randint(5)\n",
    "    time.sleep(a)\n",
    "    \n",
    "    resp = requests.get(url)\n",
    "    html = BeautifulSoup(resp.text)\n",
    "\n",
    "    value = html.select('a.product_btn_link__ArGCa.linkAnchor')\n",
    "\n",
    "    if not value :\n",
    "        real_lucky.append(keyword)\n",
    "    else:\n",
    "        no_lucky.append(keyword)"
   ]
  },
  {
   "cell_type": "code",
   "execution_count": 170,
   "metadata": {
    "ExecuteTime": {
     "end_time": "2023-02-18T17:48:49.114783Z",
     "start_time": "2023-02-18T17:48:49.011973Z"
    },
    "scrolled": true
   },
   "outputs": [
    {
     "data": {
      "text/plain": [
       "['원형전기그릴',\n",
       " '웰포트',\n",
       " '웹캠',\n",
       " '유리전기티포트',\n",
       " '유리커피포트',\n",
       " '유선이어폰',\n",
       " '유선이어폰c',\n",
       " '유선청소기',\n",
       " '유선헤드폰',\n",
       " '음료냉장고',\n",
       " '음식물처리기',\n",
       " '이동식에어컨',\n",
       " '이발기',\n",
       " '이어폰',\n",
       " '이어폰노이즈캔슬링',\n",
       " '이어폰무선',\n",
       " '이어폰보스',\n",
       " '이어폰정품',\n",
       " '이어폰케이스',\n",
       " '인강노트북',\n",
       " '인덕션',\n",
       " '인덕션1구',\n",
       " '인디블루',\n",
       " '인버터냉난방기',\n",
       " '인버터벽걸이',\n",
       " '인버터에어컨',\n",
       " '인삼열매홍삼진액',\n",
       " '인텔',\n",
       " '일반냉장고',\n",
       " '일반세탁기',\n",
       " '자외선 살균',\n",
       " '자이글',\n",
       " '장지갑녹색',\n",
       " '재봉',\n",
       " '저당밥솥',\n",
       " '전기냄비',\n",
       " '전기멀티쿠커',\n",
       " '전기방석',\n",
       " '전기요',\n",
       " '전기요더블',\n",
       " '전기요보국',\n",
       " '전기유리주전자',\n",
       " '전기유리포트',\n",
       " '전기티포트',\n",
       " '전기포트온도조절',\n",
       " '전기포트유리',\n",
       " '전기포트주전자',\n",
       " '전기포트1l',\n",
       " '전기후라이팬',\n",
       " '전기히터',\n",
       " '전동거품기',\n",
       " '전동그라인더',\n",
       " '전동다지기',\n",
       " '전동우유거품기',\n",
       " '전문가드라이기',\n",
       " '전문가용드라이기',\n",
       " '전문가용헤어드라이기',\n",
       " '전문가헤어드라이기',\n",
       " '전자동머신',\n",
       " '전자동에스프레소머신',\n",
       " '전자동커피머신',\n",
       " '전자레인지',\n",
       " '전자렌지',\n",
       " '전자렌지오븐',\n",
       " '전자파없는전기매트',\n",
       " '접이식드라이기',\n",
       " '접이식전기포트',\n",
       " '접이식포트',\n",
       " '정품이어폰',\n",
       " '제모기',\n",
       " '제빙기',\n",
       " '제빵오븐',\n",
       " '제습기',\n",
       " '제습기16L',\n",
       " '제습기18L',\n",
       " '젠더',\n",
       " '젠하이저',\n",
       " '조립컴',\n",
       " '조립pc',\n",
       " '조이콘',\n",
       " '주방가전',\n",
       " '주방후드',\n",
       " '주황 카라티',\n",
       " '중고명품숄더백',\n",
       " '중고명품장지갑',\n",
       " '중고미니백',\n",
       " '중고반팔',\n",
       " '쥬서기',\n",
       " '지포스',\n",
       " '치간세정기',\n",
       " '컬러로스트볼',\n",
       " '콜유',\n",
       " '터치스크린',\n",
       " '테스토니',\n",
       " '슬랙스셔츠',\n",
       " '심플라인',\n",
       " '아미코스메틱',\n",
       " '아웃핏',\n",
       " '알파',\n",
       " '어라운드']"
      ]
     },
     "execution_count": 170,
     "metadata": {},
     "output_type": "execute_result"
    }
   ],
   "source": [
    "no_lucky"
   ]
  },
  {
   "cell_type": "code",
   "execution_count": 146,
   "metadata": {
    "ExecuteTime": {
     "end_time": "2023-02-18T08:46:46.218408Z",
     "start_time": "2023-02-18T08:46:46.207258Z"
    }
   },
   "outputs": [
    {
     "data": {
      "text/plain": [
       "90"
      ]
     },
     "execution_count": 146,
     "metadata": {},
     "output_type": "execute_result"
    }
   ],
   "source": [
    "len(no_lucky)"
   ]
  }
 ],
 "metadata": {
  "colab": {
   "authorship_tag": "ABX9TyMM9bcGMQdkO/nwIX0kAuhm",
   "collapsed_sections": [],
   "name": "08_crawler.ipynb",
   "provenance": []
  },
  "kernelspec": {
   "display_name": "Python 3 (ipykernel)",
   "language": "python",
   "name": "python3"
  },
  "language_info": {
   "codemirror_mode": {
    "name": "ipython",
    "version": 3
   },
   "file_extension": ".py",
   "mimetype": "text/x-python",
   "name": "python",
   "nbconvert_exporter": "python",
   "pygments_lexer": "ipython3",
   "version": "3.9.13"
  },
  "toc": {
   "base_numbering": 1,
   "nav_menu": {},
   "number_sections": true,
   "sideBar": true,
   "skip_h1_title": true,
   "title_cell": "Table of Contents",
   "title_sidebar": "Contents",
   "toc_cell": false,
   "toc_position": {},
   "toc_section_display": true,
   "toc_window_display": false
  },
  "varInspector": {
   "cols": {
    "lenName": 16,
    "lenType": 16,
    "lenVar": 40
   },
   "kernels_config": {
    "python": {
     "delete_cmd_postfix": "",
     "delete_cmd_prefix": "del ",
     "library": "var_list.py",
     "varRefreshCmd": "print(var_dic_list())"
    },
    "r": {
     "delete_cmd_postfix": ") ",
     "delete_cmd_prefix": "rm(",
     "library": "var_list.r",
     "varRefreshCmd": "cat(var_dic_list()) "
    }
   },
   "types_to_exclude": [
    "module",
    "function",
    "builtin_function_or_method",
    "instance",
    "_Feature"
   ],
   "window_display": false
  }
 },
 "nbformat": 4,
 "nbformat_minor": 1
}
