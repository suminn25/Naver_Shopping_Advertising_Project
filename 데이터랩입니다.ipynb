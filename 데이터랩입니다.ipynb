{
 "cells": [
  {
   "cell_type": "code",
   "execution_count": 1,
   "id": "1fb5fb68",
   "metadata": {
    "ExecuteTime": {
     "end_time": "2023-02-20T00:51:27.140666Z",
     "start_time": "2023-02-20T00:50:55.961848Z"
    }
   },
   "outputs": [],
   "source": [
    "# https://www.dinolabs.ai/390\n",
    "# https://www.dinolabs.ai/391\n",
    "# https://foss4g.tistory.com/1410\n",
    "\n",
    "import pandas as pd\n",
    "import numpy as np\n",
    "\n",
    "import matplotlib.pyplot as plt\n",
    "import plotly.express as px\n",
    "import seaborn as sns\n",
    "\n",
    "import urllib.request\n",
    "import datetime\n",
    "import json\n",
    "import glob\n",
    "import sys\n",
    "import os\n",
    "\n",
    "import warnings\n",
    "warnings.filterwarnings(action='ignore')\n",
    "\n",
    "from pprint import pprint\n",
    "\n",
    "import matplotlib.pyplot as plt\n",
    "from matplotlib import rcParams\n",
    "rcParams['font.family'] = 'Malgun Gothic'"
   ]
  },
  {
   "cell_type": "code",
   "execution_count": 2,
   "id": "42fd96fd",
   "metadata": {
    "ExecuteTime": {
     "end_time": "2023-02-20T00:51:38.299652Z",
     "start_time": "2023-02-20T00:51:38.222595Z"
    }
   },
   "outputs": [],
   "source": [
    "lucky = pd.read_csv('C:/Users/sum/Downloads/real_lucky.csv')\n",
    "lucky= lucky['연관키워드'].values.tolist()"
   ]
  },
  {
   "cell_type": "code",
   "execution_count": 4,
   "id": "e3d4c201",
   "metadata": {
    "ExecuteTime": {
     "end_time": "2023-02-20T01:01:42.538545Z",
     "start_time": "2023-02-20T01:01:41.694822Z"
    },
    "scrolled": true
   },
   "outputs": [
    {
     "data": {
      "text/html": [
       "<div>\n",
       "<style scoped>\n",
       "    .dataframe tbody tr th:only-of-type {\n",
       "        vertical-align: middle;\n",
       "    }\n",
       "\n",
       "    .dataframe tbody tr th {\n",
       "        vertical-align: top;\n",
       "    }\n",
       "\n",
       "    .dataframe thead th {\n",
       "        text-align: right;\n",
       "    }\n",
       "</style>\n",
       "<table border=\"1\" class=\"dataframe\">\n",
       "  <thead>\n",
       "    <tr style=\"text-align: right;\">\n",
       "      <th></th>\n",
       "      <th>날짜</th>\n",
       "      <th>ratio</th>\n",
       "      <th>키워드</th>\n",
       "    </tr>\n",
       "  </thead>\n",
       "  <tbody>\n",
       "    <tr>\n",
       "      <th>0</th>\n",
       "      <td>2022-01-01</td>\n",
       "      <td>60.83758</td>\n",
       "      <td>산다라박</td>\n",
       "    </tr>\n",
       "    <tr>\n",
       "      <th>1</th>\n",
       "      <td>2022-02-01</td>\n",
       "      <td>55.14545</td>\n",
       "      <td>산다라박</td>\n",
       "    </tr>\n",
       "    <tr>\n",
       "      <th>2</th>\n",
       "      <td>2022-03-01</td>\n",
       "      <td>27.66906</td>\n",
       "      <td>산다라박</td>\n",
       "    </tr>\n",
       "    <tr>\n",
       "      <th>3</th>\n",
       "      <td>2022-04-01</td>\n",
       "      <td>100.00000</td>\n",
       "      <td>산다라박</td>\n",
       "    </tr>\n",
       "    <tr>\n",
       "      <th>4</th>\n",
       "      <td>2022-05-01</td>\n",
       "      <td>43.50254</td>\n",
       "      <td>산다라박</td>\n",
       "    </tr>\n",
       "    <tr>\n",
       "      <th>5</th>\n",
       "      <td>2022-06-01</td>\n",
       "      <td>21.01028</td>\n",
       "      <td>산다라박</td>\n",
       "    </tr>\n",
       "    <tr>\n",
       "      <th>6</th>\n",
       "      <td>2022-07-01</td>\n",
       "      <td>94.27782</td>\n",
       "      <td>산다라박</td>\n",
       "    </tr>\n",
       "    <tr>\n",
       "      <th>7</th>\n",
       "      <td>2022-08-01</td>\n",
       "      <td>46.83421</td>\n",
       "      <td>산다라박</td>\n",
       "    </tr>\n",
       "    <tr>\n",
       "      <th>8</th>\n",
       "      <td>2022-09-01</td>\n",
       "      <td>52.50218</td>\n",
       "      <td>산다라박</td>\n",
       "    </tr>\n",
       "    <tr>\n",
       "      <th>9</th>\n",
       "      <td>2022-10-01</td>\n",
       "      <td>80.86815</td>\n",
       "      <td>산다라박</td>\n",
       "    </tr>\n",
       "    <tr>\n",
       "      <th>10</th>\n",
       "      <td>2022-11-01</td>\n",
       "      <td>36.61842</td>\n",
       "      <td>산다라박</td>\n",
       "    </tr>\n",
       "    <tr>\n",
       "      <th>11</th>\n",
       "      <td>2022-12-01</td>\n",
       "      <td>28.12104</td>\n",
       "      <td>산다라박</td>\n",
       "    </tr>\n",
       "  </tbody>\n",
       "</table>\n",
       "</div>"
      ],
      "text/plain": [
       "           날짜      ratio   키워드\n",
       "0  2022-01-01   60.83758  산다라박\n",
       "1  2022-02-01   55.14545  산다라박\n",
       "2  2022-03-01   27.66906  산다라박\n",
       "3  2022-04-01  100.00000  산다라박\n",
       "4  2022-05-01   43.50254  산다라박\n",
       "5  2022-06-01   21.01028  산다라박\n",
       "6  2022-07-01   94.27782  산다라박\n",
       "7  2022-08-01   46.83421  산다라박\n",
       "8  2022-09-01   52.50218  산다라박\n",
       "9  2022-10-01   80.86815  산다라박\n",
       "10 2022-11-01   36.61842  산다라박\n",
       "11 2022-12-01   28.12104  산다라박"
      ]
     },
     "execution_count": 4,
     "metadata": {},
     "output_type": "execute_result"
    }
   ],
   "source": [
    "client_id = '4q16leh0_qaAaRmX1lP2'\n",
    "client_secret = 'biPayik_aS'\n",
    "url = 'https://openapi.naver.com/v1/datalab/search'\n",
    "\n",
    "startDate = '2022-01-01'\n",
    "endDate = '2022-12-31'\n",
    "timeUnit = 'month'\n",
    "keywordGroups = [\n",
    "    {'groupName':'산다라박', 'keywords':['산다라박']}\n",
    "]\n",
    "\n",
    "\n",
    "body = {\n",
    "        'startDate' : startDate,\n",
    "        'endDate' : endDate,\n",
    "        'timeUnit' : timeUnit,\n",
    "        'device' : 'mo',\n",
    "        'keywordGroups' : keywordGroups,\n",
    "    }\n",
    "body = json.dumps(body)\n",
    "\n",
    "request = urllib.request.Request(url)\n",
    "request.add_header('X-Naver-Client-id', client_id)\n",
    "request.add_header('X-Naver-Client-Secret', client_secret)\n",
    "request.add_header('Content-Type', 'application/json')\n",
    "response = urllib.request.urlopen(request, data=body.encode('utf-8'))\n",
    "rescode = response.getcode()\n",
    "#print(rescode)\n",
    "\n",
    "result = json.loads(response.read())\n",
    "#pprint(result)\n",
    "\n",
    "if(rescode==200):\n",
    "    df = pd.DataFrame(result['results'][0]['data'])[['period']]\n",
    "    for i in range(len(keywordGroups)):\n",
    "        tmp = pd.DataFrame(result['results'][i]['data'])\n",
    "        #tmp = tmp.rename(columns={'ratio':result['results'][i]['title']})\n",
    "        df = pd.merge(df, tmp, how='left', on=['period'])\n",
    "    df = df.rename(columns={'period':'날짜'})\n",
    "    df['날짜'] = pd.to_datetime(df['날짜'])\n",
    "else:\n",
    "    print('Error Code:' + rescode)\n",
    "    \n",
    "df['키워드'] = result['results'][i]['title']\n",
    "    \n",
    "df"
   ]
  }
 ],
 "metadata": {
  "kernelspec": {
   "display_name": "Python 3 (ipykernel)",
   "language": "python",
   "name": "python3"
  },
  "language_info": {
   "codemirror_mode": {
    "name": "ipython",
    "version": 3
   },
   "file_extension": ".py",
   "mimetype": "text/x-python",
   "name": "python",
   "nbconvert_exporter": "python",
   "pygments_lexer": "ipython3",
   "version": "3.9.13"
  },
  "toc": {
   "base_numbering": 1,
   "nav_menu": {},
   "number_sections": true,
   "sideBar": true,
   "skip_h1_title": false,
   "title_cell": "Table of Contents",
   "title_sidebar": "Contents",
   "toc_cell": false,
   "toc_position": {},
   "toc_section_display": true,
   "toc_window_display": false
  },
  "varInspector": {
   "cols": {
    "lenName": 16,
    "lenType": 16,
    "lenVar": 40
   },
   "kernels_config": {
    "python": {
     "delete_cmd_postfix": "",
     "delete_cmd_prefix": "del ",
     "library": "var_list.py",
     "varRefreshCmd": "print(var_dic_list())"
    },
    "r": {
     "delete_cmd_postfix": ") ",
     "delete_cmd_prefix": "rm(",
     "library": "var_list.r",
     "varRefreshCmd": "cat(var_dic_list()) "
    }
   },
   "types_to_exclude": [
    "module",
    "function",
    "builtin_function_or_method",
    "instance",
    "_Feature"
   ],
   "window_display": false
  }
 },
 "nbformat": 4,
 "nbformat_minor": 5
}
